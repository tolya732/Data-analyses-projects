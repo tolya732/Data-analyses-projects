{
  "nbformat": 4,
  "nbformat_minor": 0,
  "metadata": {
    "colab": {
      "provenance": [],
      "authorship_tag": "ABX9TyNrOIbS4nvKdsHGhMfrfHz0",
      "include_colab_link": true
    },
    "kernelspec": {
      "name": "python3",
      "display_name": "Python 3"
    },
    "language_info": {
      "name": "python"
    }
  },
  "cells": [
    {
      "cell_type": "markdown",
      "metadata": {
        "id": "view-in-github",
        "colab_type": "text"
      },
      "source": [
        "<a href=\"https://colab.research.google.com/github/tolya732/Data-analyses-projects/blob/main/Credit_Screening_ipynb%22.ipynb\" target=\"_parent\"><img src=\"https://colab.research.google.com/assets/colab-badge.svg\" alt=\"Open In Colab\"/></a>"
      ]
    },
    {
      "cell_type": "markdown",
      "source": [
        "Загружаем spark"
      ],
      "metadata": {
        "id": "8QjtrC5JQbe3"
      }
    },
    {
      "cell_type": "code",
      "source": [
        "!apt-get update"
      ],
      "metadata": {
        "colab": {
          "base_uri": "https://localhost:8080/"
        },
        "id": "eDnptOKhQdXa",
        "outputId": "a9808f1b-64e8-4ca4-d36d-d10206390b34"
      },
      "execution_count": null,
      "outputs": [
        {
          "output_type": "stream",
          "name": "stdout",
          "text": [
            "\r0% [Working]\r            \rHit:1 https://developer.download.nvidia.com/compute/cuda/repos/ubuntu2004/x86_64  InRelease\n",
            "Hit:2 https://cloud.r-project.org/bin/linux/ubuntu focal-cran40/ InRelease\n",
            "Hit:3 http://ppa.launchpad.net/c2d4u.team/c2d4u4.0+/ubuntu focal InRelease\n",
            "Hit:4 http://security.ubuntu.com/ubuntu focal-security InRelease\n",
            "Hit:5 http://archive.ubuntu.com/ubuntu focal InRelease\n",
            "Hit:6 http://archive.ubuntu.com/ubuntu focal-updates InRelease\n",
            "Hit:7 http://ppa.launchpad.net/cran/libgit2/ubuntu focal InRelease\n",
            "Hit:8 http://archive.ubuntu.com/ubuntu focal-backports InRelease\n",
            "Hit:9 http://ppa.launchpad.net/deadsnakes/ppa/ubuntu focal InRelease\n",
            "Hit:10 http://ppa.launchpad.net/graphics-drivers/ppa/ubuntu focal InRelease\n",
            "Hit:11 http://ppa.launchpad.net/ubuntugis/ppa/ubuntu focal InRelease\n",
            "Reading package lists... Done\n"
          ]
        }
      ]
    },
    {
      "cell_type": "code",
      "source": [
        "!apt-get install openjdk-8-jdk-headless -qq > /dev/null"
      ],
      "metadata": {
        "id": "LFve-0nJQo-0"
      },
      "execution_count": null,
      "outputs": []
    },
    {
      "cell_type": "code",
      "source": [
        "!wget -q https://archive.apache.org/dist/spark/spark-3.0.0/spark-3.0.0-bin-hadoop3.2.tgz"
      ],
      "metadata": {
        "id": "im_ONbNoQqW2"
      },
      "execution_count": null,
      "outputs": []
    },
    {
      "cell_type": "code",
      "source": [
        "!tar -xf spark-3.0.0-bin-hadoop3.2.tgz"
      ],
      "metadata": {
        "id": "H5b-alc-REAH"
      },
      "execution_count": null,
      "outputs": []
    },
    {
      "cell_type": "code",
      "source": [
        "import os\n",
        "\n",
        "os.environ[\"JAVA_HOME\"] = \"/usr/lib/jvm/java-8-openjdk-amd64\"\n",
        "os.environ[\"SPARK_HOME\"] = \"/content/spark-3.0.0-bin-hadoop3.2\""
      ],
      "metadata": {
        "id": "FU7BtndnRItR"
      },
      "execution_count": null,
      "outputs": []
    },
    {
      "cell_type": "code",
      "source": [
        "!pip install -q findspark"
      ],
      "metadata": {
        "id": "qY-Q9o4MRR1a"
      },
      "execution_count": null,
      "outputs": []
    },
    {
      "cell_type": "code",
      "source": [
        "import findspark\n",
        "findspark.init()\n",
        "from pyspark.sql import SparkSession\n",
        "spark = SparkSession.builder.master(\"local[*]\").getOrCreate()\n",
        "sc = spark.sparkContext"
      ],
      "metadata": {
        "id": "IH4NwT1rRvRw"
      },
      "execution_count": null,
      "outputs": []
    },
    {
      "cell_type": "markdown",
      "source": [
        "**ЗАДАНИЕ**\n",
        "\n",
        "Cоздайте программу для определения кредитной платежеспособности (кредитного скрининга). Пусть имеются данные о клиентах, обратившихся за кредитом. Здесь объектами являются клиенты, а признаками могут являться их пол, уровень дохода, образование, информация о том, имеется или отсутствует у них положительная кредитная история и т.д.\n",
        "\n",
        "В качестве выделенного признака (ответа) выступает информация о том, вернул ли клиент кредит в банк или нет. По этим данным требуется научиться предсказывать, вернет ли кредит новый клиент, обратившийся в банк.\n",
        "\n",
        "Таким образом, речь идет о задаче классификации: требуется определить, какому классу: положительному (кредит будет возвращен) или отрицательному (кредит не будет возвращен) – принадлежит клиент.\n",
        "\n",
        "Для построения модели используем файл данных по кредитным рейтингам crx.csv с сайта https://www.kaggle.com/code/kerneler/starter-uci-credit-approval-612a845f-d/data"
      ],
      "metadata": {
        "id": "MBMdSXgb20Na"
      }
    },
    {
      "cell_type": "markdown",
      "source": [
        "Для начала импортируем нужные библиотеки и сами данные."
      ],
      "metadata": {
        "id": "eh78FeiR5gwO"
      }
    },
    {
      "cell_type": "code",
      "execution_count": null,
      "metadata": {
        "id": "nIT8sRsT2VYB"
      },
      "outputs": [],
      "source": [
        "import numpy as np\n",
        "import pandas as pd\n",
        "import sys"
      ]
    },
    {
      "cell_type": "code",
      "source": [
        "df=pd.read_csv(\"crx.csv\")"
      ],
      "metadata": {
        "id": "vmpm7Tav3BEc"
      },
      "execution_count": null,
      "outputs": []
    },
    {
      "cell_type": "markdown",
      "source": [
        "Проверка данных из csv"
      ],
      "metadata": {
        "id": "FOfu-el254R3"
      }
    },
    {
      "cell_type": "code",
      "source": [
        "df.head(10)"
      ],
      "metadata": {
        "colab": {
          "base_uri": "https://localhost:8080/",
          "height": 363
        },
        "id": "T44S_vmb3BwE",
        "outputId": "a24ee424-5978-4589-874d-f64d6f0bd91a"
      },
      "execution_count": null,
      "outputs": [
        {
          "output_type": "execute_result",
          "data": {
            "text/plain": [
              "   b  30.83       0  u  g   w  v   1.25  t t.1  1  f g.1  202    0.1  +\n",
              "0  a  58.67   4.460  u  g   q  h  3.040  t   t  6  f   g   43    560  +\n",
              "1  a   24.5   0.500  u  g   q  h  1.500  t   f  0  f   g  280    824  +\n",
              "2  b  27.83   1.540  u  g   w  v  3.750  t   t  5  t   g  100      3  +\n",
              "3  b  20.17   5.625  u  g   w  v  1.710  t   f  0  f   s  120      0  +\n",
              "4  b  32.08   4.000  u  g   m  v  2.500  t   f  0  t   g  360      0  +\n",
              "5  b  33.17   1.040  u  g   r  h  6.500  t   f  0  t   g  164  31285  +\n",
              "6  a  22.92  11.585  u  g  cc  v  0.040  t   f  0  f   g   80   1349  +\n",
              "7  b  54.42   0.500  y  p   k  h  3.960  t   f  0  f   g  180    314  +\n",
              "8  b   42.5   4.915  y  p   w  v  3.165  t   f  0  t   g   52   1442  +\n",
              "9  b  22.08   0.830  u  g   c  h  2.165  f   f  0  t   g  128      0  +"
            ],
            "text/html": [
              "\n",
              "  <div id=\"df-ea183124-3cdc-4767-9ef4-1f516010ca58\">\n",
              "    <div class=\"colab-df-container\">\n",
              "      <div>\n",
              "<style scoped>\n",
              "    .dataframe tbody tr th:only-of-type {\n",
              "        vertical-align: middle;\n",
              "    }\n",
              "\n",
              "    .dataframe tbody tr th {\n",
              "        vertical-align: top;\n",
              "    }\n",
              "\n",
              "    .dataframe thead th {\n",
              "        text-align: right;\n",
              "    }\n",
              "</style>\n",
              "<table border=\"1\" class=\"dataframe\">\n",
              "  <thead>\n",
              "    <tr style=\"text-align: right;\">\n",
              "      <th></th>\n",
              "      <th>b</th>\n",
              "      <th>30.83</th>\n",
              "      <th>0</th>\n",
              "      <th>u</th>\n",
              "      <th>g</th>\n",
              "      <th>w</th>\n",
              "      <th>v</th>\n",
              "      <th>1.25</th>\n",
              "      <th>t</th>\n",
              "      <th>t.1</th>\n",
              "      <th>1</th>\n",
              "      <th>f</th>\n",
              "      <th>g.1</th>\n",
              "      <th>202</th>\n",
              "      <th>0.1</th>\n",
              "      <th>+</th>\n",
              "    </tr>\n",
              "  </thead>\n",
              "  <tbody>\n",
              "    <tr>\n",
              "      <th>0</th>\n",
              "      <td>a</td>\n",
              "      <td>58.67</td>\n",
              "      <td>4.460</td>\n",
              "      <td>u</td>\n",
              "      <td>g</td>\n",
              "      <td>q</td>\n",
              "      <td>h</td>\n",
              "      <td>3.040</td>\n",
              "      <td>t</td>\n",
              "      <td>t</td>\n",
              "      <td>6</td>\n",
              "      <td>f</td>\n",
              "      <td>g</td>\n",
              "      <td>43</td>\n",
              "      <td>560</td>\n",
              "      <td>+</td>\n",
              "    </tr>\n",
              "    <tr>\n",
              "      <th>1</th>\n",
              "      <td>a</td>\n",
              "      <td>24.5</td>\n",
              "      <td>0.500</td>\n",
              "      <td>u</td>\n",
              "      <td>g</td>\n",
              "      <td>q</td>\n",
              "      <td>h</td>\n",
              "      <td>1.500</td>\n",
              "      <td>t</td>\n",
              "      <td>f</td>\n",
              "      <td>0</td>\n",
              "      <td>f</td>\n",
              "      <td>g</td>\n",
              "      <td>280</td>\n",
              "      <td>824</td>\n",
              "      <td>+</td>\n",
              "    </tr>\n",
              "    <tr>\n",
              "      <th>2</th>\n",
              "      <td>b</td>\n",
              "      <td>27.83</td>\n",
              "      <td>1.540</td>\n",
              "      <td>u</td>\n",
              "      <td>g</td>\n",
              "      <td>w</td>\n",
              "      <td>v</td>\n",
              "      <td>3.750</td>\n",
              "      <td>t</td>\n",
              "      <td>t</td>\n",
              "      <td>5</td>\n",
              "      <td>t</td>\n",
              "      <td>g</td>\n",
              "      <td>100</td>\n",
              "      <td>3</td>\n",
              "      <td>+</td>\n",
              "    </tr>\n",
              "    <tr>\n",
              "      <th>3</th>\n",
              "      <td>b</td>\n",
              "      <td>20.17</td>\n",
              "      <td>5.625</td>\n",
              "      <td>u</td>\n",
              "      <td>g</td>\n",
              "      <td>w</td>\n",
              "      <td>v</td>\n",
              "      <td>1.710</td>\n",
              "      <td>t</td>\n",
              "      <td>f</td>\n",
              "      <td>0</td>\n",
              "      <td>f</td>\n",
              "      <td>s</td>\n",
              "      <td>120</td>\n",
              "      <td>0</td>\n",
              "      <td>+</td>\n",
              "    </tr>\n",
              "    <tr>\n",
              "      <th>4</th>\n",
              "      <td>b</td>\n",
              "      <td>32.08</td>\n",
              "      <td>4.000</td>\n",
              "      <td>u</td>\n",
              "      <td>g</td>\n",
              "      <td>m</td>\n",
              "      <td>v</td>\n",
              "      <td>2.500</td>\n",
              "      <td>t</td>\n",
              "      <td>f</td>\n",
              "      <td>0</td>\n",
              "      <td>t</td>\n",
              "      <td>g</td>\n",
              "      <td>360</td>\n",
              "      <td>0</td>\n",
              "      <td>+</td>\n",
              "    </tr>\n",
              "    <tr>\n",
              "      <th>5</th>\n",
              "      <td>b</td>\n",
              "      <td>33.17</td>\n",
              "      <td>1.040</td>\n",
              "      <td>u</td>\n",
              "      <td>g</td>\n",
              "      <td>r</td>\n",
              "      <td>h</td>\n",
              "      <td>6.500</td>\n",
              "      <td>t</td>\n",
              "      <td>f</td>\n",
              "      <td>0</td>\n",
              "      <td>t</td>\n",
              "      <td>g</td>\n",
              "      <td>164</td>\n",
              "      <td>31285</td>\n",
              "      <td>+</td>\n",
              "    </tr>\n",
              "    <tr>\n",
              "      <th>6</th>\n",
              "      <td>a</td>\n",
              "      <td>22.92</td>\n",
              "      <td>11.585</td>\n",
              "      <td>u</td>\n",
              "      <td>g</td>\n",
              "      <td>cc</td>\n",
              "      <td>v</td>\n",
              "      <td>0.040</td>\n",
              "      <td>t</td>\n",
              "      <td>f</td>\n",
              "      <td>0</td>\n",
              "      <td>f</td>\n",
              "      <td>g</td>\n",
              "      <td>80</td>\n",
              "      <td>1349</td>\n",
              "      <td>+</td>\n",
              "    </tr>\n",
              "    <tr>\n",
              "      <th>7</th>\n",
              "      <td>b</td>\n",
              "      <td>54.42</td>\n",
              "      <td>0.500</td>\n",
              "      <td>y</td>\n",
              "      <td>p</td>\n",
              "      <td>k</td>\n",
              "      <td>h</td>\n",
              "      <td>3.960</td>\n",
              "      <td>t</td>\n",
              "      <td>f</td>\n",
              "      <td>0</td>\n",
              "      <td>f</td>\n",
              "      <td>g</td>\n",
              "      <td>180</td>\n",
              "      <td>314</td>\n",
              "      <td>+</td>\n",
              "    </tr>\n",
              "    <tr>\n",
              "      <th>8</th>\n",
              "      <td>b</td>\n",
              "      <td>42.5</td>\n",
              "      <td>4.915</td>\n",
              "      <td>y</td>\n",
              "      <td>p</td>\n",
              "      <td>w</td>\n",
              "      <td>v</td>\n",
              "      <td>3.165</td>\n",
              "      <td>t</td>\n",
              "      <td>f</td>\n",
              "      <td>0</td>\n",
              "      <td>t</td>\n",
              "      <td>g</td>\n",
              "      <td>52</td>\n",
              "      <td>1442</td>\n",
              "      <td>+</td>\n",
              "    </tr>\n",
              "    <tr>\n",
              "      <th>9</th>\n",
              "      <td>b</td>\n",
              "      <td>22.08</td>\n",
              "      <td>0.830</td>\n",
              "      <td>u</td>\n",
              "      <td>g</td>\n",
              "      <td>c</td>\n",
              "      <td>h</td>\n",
              "      <td>2.165</td>\n",
              "      <td>f</td>\n",
              "      <td>f</td>\n",
              "      <td>0</td>\n",
              "      <td>t</td>\n",
              "      <td>g</td>\n",
              "      <td>128</td>\n",
              "      <td>0</td>\n",
              "      <td>+</td>\n",
              "    </tr>\n",
              "  </tbody>\n",
              "</table>\n",
              "</div>\n",
              "      <button class=\"colab-df-convert\" onclick=\"convertToInteractive('df-ea183124-3cdc-4767-9ef4-1f516010ca58')\"\n",
              "              title=\"Convert this dataframe to an interactive table.\"\n",
              "              style=\"display:none;\">\n",
              "        \n",
              "  <svg xmlns=\"http://www.w3.org/2000/svg\" height=\"24px\"viewBox=\"0 0 24 24\"\n",
              "       width=\"24px\">\n",
              "    <path d=\"M0 0h24v24H0V0z\" fill=\"none\"/>\n",
              "    <path d=\"M18.56 5.44l.94 2.06.94-2.06 2.06-.94-2.06-.94-.94-2.06-.94 2.06-2.06.94zm-11 1L8.5 8.5l.94-2.06 2.06-.94-2.06-.94L8.5 2.5l-.94 2.06-2.06.94zm10 10l.94 2.06.94-2.06 2.06-.94-2.06-.94-.94-2.06-.94 2.06-2.06.94z\"/><path d=\"M17.41 7.96l-1.37-1.37c-.4-.4-.92-.59-1.43-.59-.52 0-1.04.2-1.43.59L10.3 9.45l-7.72 7.72c-.78.78-.78 2.05 0 2.83L4 21.41c.39.39.9.59 1.41.59.51 0 1.02-.2 1.41-.59l7.78-7.78 2.81-2.81c.8-.78.8-2.07 0-2.86zM5.41 20L4 18.59l7.72-7.72 1.47 1.35L5.41 20z\"/>\n",
              "  </svg>\n",
              "      </button>\n",
              "      \n",
              "  <style>\n",
              "    .colab-df-container {\n",
              "      display:flex;\n",
              "      flex-wrap:wrap;\n",
              "      gap: 12px;\n",
              "    }\n",
              "\n",
              "    .colab-df-convert {\n",
              "      background-color: #E8F0FE;\n",
              "      border: none;\n",
              "      border-radius: 50%;\n",
              "      cursor: pointer;\n",
              "      display: none;\n",
              "      fill: #1967D2;\n",
              "      height: 32px;\n",
              "      padding: 0 0 0 0;\n",
              "      width: 32px;\n",
              "    }\n",
              "\n",
              "    .colab-df-convert:hover {\n",
              "      background-color: #E2EBFA;\n",
              "      box-shadow: 0px 1px 2px rgba(60, 64, 67, 0.3), 0px 1px 3px 1px rgba(60, 64, 67, 0.15);\n",
              "      fill: #174EA6;\n",
              "    }\n",
              "\n",
              "    [theme=dark] .colab-df-convert {\n",
              "      background-color: #3B4455;\n",
              "      fill: #D2E3FC;\n",
              "    }\n",
              "\n",
              "    [theme=dark] .colab-df-convert:hover {\n",
              "      background-color: #434B5C;\n",
              "      box-shadow: 0px 1px 3px 1px rgba(0, 0, 0, 0.15);\n",
              "      filter: drop-shadow(0px 1px 2px rgba(0, 0, 0, 0.3));\n",
              "      fill: #FFFFFF;\n",
              "    }\n",
              "  </style>\n",
              "\n",
              "      <script>\n",
              "        const buttonEl =\n",
              "          document.querySelector('#df-ea183124-3cdc-4767-9ef4-1f516010ca58 button.colab-df-convert');\n",
              "        buttonEl.style.display =\n",
              "          google.colab.kernel.accessAllowed ? 'block' : 'none';\n",
              "\n",
              "        async function convertToInteractive(key) {\n",
              "          const element = document.querySelector('#df-ea183124-3cdc-4767-9ef4-1f516010ca58');\n",
              "          const dataTable =\n",
              "            await google.colab.kernel.invokeFunction('convertToInteractive',\n",
              "                                                     [key], {});\n",
              "          if (!dataTable) return;\n",
              "\n",
              "          const docLinkHtml = 'Like what you see? Visit the ' +\n",
              "            '<a target=\"_blank\" href=https://colab.research.google.com/notebooks/data_table.ipynb>data table notebook</a>'\n",
              "            + ' to learn more about interactive tables.';\n",
              "          element.innerHTML = '';\n",
              "          dataTable['output_type'] = 'display_data';\n",
              "          await google.colab.output.renderOutput(dataTable, element);\n",
              "          const docLink = document.createElement('div');\n",
              "          docLink.innerHTML = docLinkHtml;\n",
              "          element.appendChild(docLink);\n",
              "        }\n",
              "      </script>\n",
              "    </div>\n",
              "  </div>\n",
              "  "
            ]
          },
          "metadata": {},
          "execution_count": 22
        }
      ]
    },
    {
      "cell_type": "markdown",
      "source": [
        "Проверим, сколько записей в датасете и есть ли у нас пропуски."
      ],
      "metadata": {
        "id": "Efmazp6N5__P"
      }
    },
    {
      "cell_type": "code",
      "source": [
        "df.info()"
      ],
      "metadata": {
        "colab": {
          "base_uri": "https://localhost:8080/"
        },
        "id": "a5XjXdGO5_PT",
        "outputId": "8313df80-84a9-4673-8bfb-5a67e9dc70ac"
      },
      "execution_count": null,
      "outputs": [
        {
          "output_type": "stream",
          "name": "stdout",
          "text": [
            "<class 'pandas.core.frame.DataFrame'>\n",
            "RangeIndex: 689 entries, 0 to 688\n",
            "Data columns (total 16 columns):\n",
            " #   Column  Non-Null Count  Dtype  \n",
            "---  ------  --------------  -----  \n",
            " 0   b       689 non-null    object \n",
            " 1   30.83   689 non-null    object \n",
            " 2   0       689 non-null    float64\n",
            " 3   u       689 non-null    object \n",
            " 4   g       689 non-null    object \n",
            " 5   w       689 non-null    object \n",
            " 6   v       689 non-null    object \n",
            " 7   1.25    689 non-null    float64\n",
            " 8   t       689 non-null    object \n",
            " 9   t.1     689 non-null    object \n",
            " 10  1       689 non-null    int64  \n",
            " 11  f       689 non-null    object \n",
            " 12  g.1     689 non-null    object \n",
            " 13  202     689 non-null    object \n",
            " 14  0.1     689 non-null    int64  \n",
            " 15  +       689 non-null    object \n",
            "dtypes: float64(2), int64(2), object(12)\n",
            "memory usage: 86.2+ KB\n"
          ]
        }
      ]
    },
    {
      "cell_type": "markdown",
      "source": [
        "Результат показывает, что в наборе 689 записей, и нет ни одного NA."
      ],
      "metadata": {
        "id": "YgGrnVWV6GXF"
      }
    },
    {
      "cell_type": "code",
      "source": [
        "df.value_counts().to_frame()"
      ],
      "metadata": {
        "colab": {
          "base_uri": "https://localhost:8080/",
          "height": 455
        },
        "id": "gzVuuB-E5wk3",
        "outputId": "ac5a2b8c-7ebe-4e8f-aeee-b74dae97e787"
      },
      "execution_count": null,
      "outputs": [
        {
          "output_type": "execute_result",
          "data": {
            "text/plain": [
              "                                                        0\n",
              "b 30.83 0      u g w  v 1.25  t t.1 1 f g.1 202 0.1  +   \n",
              "? 20.08 0.125  u g q  v 1.000 f t   1 f g   240 768  +  1\n",
              "b 30.17 6.500  u g cc v 3.125 t t   8 f g   330 1200 +  1\n",
              "  29.67 1.415  u g w  h 0.750 t t   1 f g   240 100  +  1\n",
              "  29.83 1.250  y p k  v 0.250 f f   0 f g   224 0    -  1\n",
              "        2.040  y p x  h 0.040 f f   0 f g   128 1    -  1\n",
              "...                                                    ..\n",
              "  16.5  0.125  u g c  v 0.165 f f   0 f g   132 0    -  1\n",
              "  16.92 0.335  y p k  v 0.290 f f   0 f s   200 0    -  1\n",
              "  17.08 0.085  y p c  v 0.040 f f   0 f g   140 722  -  1\n",
              "        0.250  u g q  v 0.335 f t   4 f g   160 8    -  1\n",
              "  ?     10.500 u g x  v 6.500 t f   0 f g   0   0    +  1\n",
              "\n",
              "[689 rows x 1 columns]"
            ],
            "text/html": [
              "\n",
              "  <div id=\"df-a85a5738-754e-4d24-8113-80e781cc195e\">\n",
              "    <div class=\"colab-df-container\">\n",
              "      <div>\n",
              "<style scoped>\n",
              "    .dataframe tbody tr th:only-of-type {\n",
              "        vertical-align: middle;\n",
              "    }\n",
              "\n",
              "    .dataframe tbody tr th {\n",
              "        vertical-align: top;\n",
              "    }\n",
              "\n",
              "    .dataframe thead th {\n",
              "        text-align: right;\n",
              "    }\n",
              "</style>\n",
              "<table border=\"1\" class=\"dataframe\">\n",
              "  <thead>\n",
              "    <tr style=\"text-align: right;\">\n",
              "      <th></th>\n",
              "      <th></th>\n",
              "      <th></th>\n",
              "      <th></th>\n",
              "      <th></th>\n",
              "      <th></th>\n",
              "      <th></th>\n",
              "      <th></th>\n",
              "      <th></th>\n",
              "      <th></th>\n",
              "      <th></th>\n",
              "      <th></th>\n",
              "      <th></th>\n",
              "      <th></th>\n",
              "      <th></th>\n",
              "      <th></th>\n",
              "      <th>0</th>\n",
              "    </tr>\n",
              "    <tr>\n",
              "      <th>b</th>\n",
              "      <th>30.83</th>\n",
              "      <th>0</th>\n",
              "      <th>u</th>\n",
              "      <th>g</th>\n",
              "      <th>w</th>\n",
              "      <th>v</th>\n",
              "      <th>1.25</th>\n",
              "      <th>t</th>\n",
              "      <th>t.1</th>\n",
              "      <th>1</th>\n",
              "      <th>f</th>\n",
              "      <th>g.1</th>\n",
              "      <th>202</th>\n",
              "      <th>0.1</th>\n",
              "      <th>+</th>\n",
              "      <th></th>\n",
              "    </tr>\n",
              "  </thead>\n",
              "  <tbody>\n",
              "    <tr>\n",
              "      <th>?</th>\n",
              "      <th>20.08</th>\n",
              "      <th>0.125</th>\n",
              "      <th>u</th>\n",
              "      <th>g</th>\n",
              "      <th>q</th>\n",
              "      <th>v</th>\n",
              "      <th>1.000</th>\n",
              "      <th>f</th>\n",
              "      <th>t</th>\n",
              "      <th>1</th>\n",
              "      <th>f</th>\n",
              "      <th>g</th>\n",
              "      <th>240</th>\n",
              "      <th>768</th>\n",
              "      <th>+</th>\n",
              "      <td>1</td>\n",
              "    </tr>\n",
              "    <tr>\n",
              "      <th rowspan=\"10\" valign=\"top\">b</th>\n",
              "      <th>30.17</th>\n",
              "      <th>6.500</th>\n",
              "      <th>u</th>\n",
              "      <th>g</th>\n",
              "      <th>cc</th>\n",
              "      <th>v</th>\n",
              "      <th>3.125</th>\n",
              "      <th>t</th>\n",
              "      <th>t</th>\n",
              "      <th>8</th>\n",
              "      <th>f</th>\n",
              "      <th>g</th>\n",
              "      <th>330</th>\n",
              "      <th>1200</th>\n",
              "      <th>+</th>\n",
              "      <td>1</td>\n",
              "    </tr>\n",
              "    <tr>\n",
              "      <th>29.67</th>\n",
              "      <th>1.415</th>\n",
              "      <th>u</th>\n",
              "      <th>g</th>\n",
              "      <th>w</th>\n",
              "      <th>h</th>\n",
              "      <th>0.750</th>\n",
              "      <th>t</th>\n",
              "      <th>t</th>\n",
              "      <th>1</th>\n",
              "      <th>f</th>\n",
              "      <th>g</th>\n",
              "      <th>240</th>\n",
              "      <th>100</th>\n",
              "      <th>+</th>\n",
              "      <td>1</td>\n",
              "    </tr>\n",
              "    <tr>\n",
              "      <th rowspan=\"2\" valign=\"top\">29.83</th>\n",
              "      <th>1.250</th>\n",
              "      <th>y</th>\n",
              "      <th>p</th>\n",
              "      <th>k</th>\n",
              "      <th>v</th>\n",
              "      <th>0.250</th>\n",
              "      <th>f</th>\n",
              "      <th>f</th>\n",
              "      <th>0</th>\n",
              "      <th>f</th>\n",
              "      <th>g</th>\n",
              "      <th>224</th>\n",
              "      <th>0</th>\n",
              "      <th>-</th>\n",
              "      <td>1</td>\n",
              "    </tr>\n",
              "    <tr>\n",
              "      <th>2.040</th>\n",
              "      <th>y</th>\n",
              "      <th>p</th>\n",
              "      <th>x</th>\n",
              "      <th>h</th>\n",
              "      <th>0.040</th>\n",
              "      <th>f</th>\n",
              "      <th>f</th>\n",
              "      <th>0</th>\n",
              "      <th>f</th>\n",
              "      <th>g</th>\n",
              "      <th>128</th>\n",
              "      <th>1</th>\n",
              "      <th>-</th>\n",
              "      <td>1</td>\n",
              "    </tr>\n",
              "    <tr>\n",
              "      <th>...</th>\n",
              "      <th>...</th>\n",
              "      <th>...</th>\n",
              "      <th>...</th>\n",
              "      <th>...</th>\n",
              "      <th>...</th>\n",
              "      <th>...</th>\n",
              "      <th>...</th>\n",
              "      <th>...</th>\n",
              "      <th>...</th>\n",
              "      <th>...</th>\n",
              "      <th>...</th>\n",
              "      <th>...</th>\n",
              "      <th>...</th>\n",
              "      <th>...</th>\n",
              "      <td>...</td>\n",
              "    </tr>\n",
              "    <tr>\n",
              "      <th>16.5</th>\n",
              "      <th>0.125</th>\n",
              "      <th>u</th>\n",
              "      <th>g</th>\n",
              "      <th>c</th>\n",
              "      <th>v</th>\n",
              "      <th>0.165</th>\n",
              "      <th>f</th>\n",
              "      <th>f</th>\n",
              "      <th>0</th>\n",
              "      <th>f</th>\n",
              "      <th>g</th>\n",
              "      <th>132</th>\n",
              "      <th>0</th>\n",
              "      <th>-</th>\n",
              "      <td>1</td>\n",
              "    </tr>\n",
              "    <tr>\n",
              "      <th>16.92</th>\n",
              "      <th>0.335</th>\n",
              "      <th>y</th>\n",
              "      <th>p</th>\n",
              "      <th>k</th>\n",
              "      <th>v</th>\n",
              "      <th>0.290</th>\n",
              "      <th>f</th>\n",
              "      <th>f</th>\n",
              "      <th>0</th>\n",
              "      <th>f</th>\n",
              "      <th>s</th>\n",
              "      <th>200</th>\n",
              "      <th>0</th>\n",
              "      <th>-</th>\n",
              "      <td>1</td>\n",
              "    </tr>\n",
              "    <tr>\n",
              "      <th rowspan=\"2\" valign=\"top\">17.08</th>\n",
              "      <th>0.085</th>\n",
              "      <th>y</th>\n",
              "      <th>p</th>\n",
              "      <th>c</th>\n",
              "      <th>v</th>\n",
              "      <th>0.040</th>\n",
              "      <th>f</th>\n",
              "      <th>f</th>\n",
              "      <th>0</th>\n",
              "      <th>f</th>\n",
              "      <th>g</th>\n",
              "      <th>140</th>\n",
              "      <th>722</th>\n",
              "      <th>-</th>\n",
              "      <td>1</td>\n",
              "    </tr>\n",
              "    <tr>\n",
              "      <th>0.250</th>\n",
              "      <th>u</th>\n",
              "      <th>g</th>\n",
              "      <th>q</th>\n",
              "      <th>v</th>\n",
              "      <th>0.335</th>\n",
              "      <th>f</th>\n",
              "      <th>t</th>\n",
              "      <th>4</th>\n",
              "      <th>f</th>\n",
              "      <th>g</th>\n",
              "      <th>160</th>\n",
              "      <th>8</th>\n",
              "      <th>-</th>\n",
              "      <td>1</td>\n",
              "    </tr>\n",
              "    <tr>\n",
              "      <th>?</th>\n",
              "      <th>10.500</th>\n",
              "      <th>u</th>\n",
              "      <th>g</th>\n",
              "      <th>x</th>\n",
              "      <th>v</th>\n",
              "      <th>6.500</th>\n",
              "      <th>t</th>\n",
              "      <th>f</th>\n",
              "      <th>0</th>\n",
              "      <th>f</th>\n",
              "      <th>g</th>\n",
              "      <th>0</th>\n",
              "      <th>0</th>\n",
              "      <th>+</th>\n",
              "      <td>1</td>\n",
              "    </tr>\n",
              "  </tbody>\n",
              "</table>\n",
              "<p>689 rows × 1 columns</p>\n",
              "</div>\n",
              "      <button class=\"colab-df-convert\" onclick=\"convertToInteractive('df-a85a5738-754e-4d24-8113-80e781cc195e')\"\n",
              "              title=\"Convert this dataframe to an interactive table.\"\n",
              "              style=\"display:none;\">\n",
              "        \n",
              "  <svg xmlns=\"http://www.w3.org/2000/svg\" height=\"24px\"viewBox=\"0 0 24 24\"\n",
              "       width=\"24px\">\n",
              "    <path d=\"M0 0h24v24H0V0z\" fill=\"none\"/>\n",
              "    <path d=\"M18.56 5.44l.94 2.06.94-2.06 2.06-.94-2.06-.94-.94-2.06-.94 2.06-2.06.94zm-11 1L8.5 8.5l.94-2.06 2.06-.94-2.06-.94L8.5 2.5l-.94 2.06-2.06.94zm10 10l.94 2.06.94-2.06 2.06-.94-2.06-.94-.94-2.06-.94 2.06-2.06.94z\"/><path d=\"M17.41 7.96l-1.37-1.37c-.4-.4-.92-.59-1.43-.59-.52 0-1.04.2-1.43.59L10.3 9.45l-7.72 7.72c-.78.78-.78 2.05 0 2.83L4 21.41c.39.39.9.59 1.41.59.51 0 1.02-.2 1.41-.59l7.78-7.78 2.81-2.81c.8-.78.8-2.07 0-2.86zM5.41 20L4 18.59l7.72-7.72 1.47 1.35L5.41 20z\"/>\n",
              "  </svg>\n",
              "      </button>\n",
              "      \n",
              "  <style>\n",
              "    .colab-df-container {\n",
              "      display:flex;\n",
              "      flex-wrap:wrap;\n",
              "      gap: 12px;\n",
              "    }\n",
              "\n",
              "    .colab-df-convert {\n",
              "      background-color: #E8F0FE;\n",
              "      border: none;\n",
              "      border-radius: 50%;\n",
              "      cursor: pointer;\n",
              "      display: none;\n",
              "      fill: #1967D2;\n",
              "      height: 32px;\n",
              "      padding: 0 0 0 0;\n",
              "      width: 32px;\n",
              "    }\n",
              "\n",
              "    .colab-df-convert:hover {\n",
              "      background-color: #E2EBFA;\n",
              "      box-shadow: 0px 1px 2px rgba(60, 64, 67, 0.3), 0px 1px 3px 1px rgba(60, 64, 67, 0.15);\n",
              "      fill: #174EA6;\n",
              "    }\n",
              "\n",
              "    [theme=dark] .colab-df-convert {\n",
              "      background-color: #3B4455;\n",
              "      fill: #D2E3FC;\n",
              "    }\n",
              "\n",
              "    [theme=dark] .colab-df-convert:hover {\n",
              "      background-color: #434B5C;\n",
              "      box-shadow: 0px 1px 3px 1px rgba(0, 0, 0, 0.15);\n",
              "      filter: drop-shadow(0px 1px 2px rgba(0, 0, 0, 0.3));\n",
              "      fill: #FFFFFF;\n",
              "    }\n",
              "  </style>\n",
              "\n",
              "      <script>\n",
              "        const buttonEl =\n",
              "          document.querySelector('#df-a85a5738-754e-4d24-8113-80e781cc195e button.colab-df-convert');\n",
              "        buttonEl.style.display =\n",
              "          google.colab.kernel.accessAllowed ? 'block' : 'none';\n",
              "\n",
              "        async function convertToInteractive(key) {\n",
              "          const element = document.querySelector('#df-a85a5738-754e-4d24-8113-80e781cc195e');\n",
              "          const dataTable =\n",
              "            await google.colab.kernel.invokeFunction('convertToInteractive',\n",
              "                                                     [key], {});\n",
              "          if (!dataTable) return;\n",
              "\n",
              "          const docLinkHtml = 'Like what you see? Visit the ' +\n",
              "            '<a target=\"_blank\" href=https://colab.research.google.com/notebooks/data_table.ipynb>data table notebook</a>'\n",
              "            + ' to learn more about interactive tables.';\n",
              "          element.innerHTML = '';\n",
              "          dataTable['output_type'] = 'display_data';\n",
              "          await google.colab.output.renderOutput(dataTable, element);\n",
              "          const docLink = document.createElement('div');\n",
              "          docLink.innerHTML = docLinkHtml;\n",
              "          element.appendChild(docLink);\n",
              "        }\n",
              "      </script>\n",
              "    </div>\n",
              "  </div>\n",
              "  "
            ]
          },
          "metadata": {},
          "execution_count": 24
        }
      ]
    },
    {
      "cell_type": "markdown",
      "source": [
        "Исследуем данные по столбцам, выясняем какие столбцы оставить для модели."
      ],
      "metadata": {
        "id": "D1B4HpPM-CLy"
      }
    },
    {
      "cell_type": "code",
      "source": [
        "df['g.1'].value_counts()"
      ],
      "metadata": {
        "colab": {
          "base_uri": "https://localhost:8080/"
        },
        "id": "LMYh47Vf91_W",
        "outputId": "7238263b-a169-4995-bea1-21762f9992c7"
      },
      "execution_count": null,
      "outputs": [
        {
          "output_type": "execute_result",
          "data": {
            "text/plain": [
              "g    624\n",
              "s     57\n",
              "p      8\n",
              "Name: g.1, dtype: int64"
            ]
          },
          "metadata": {},
          "execution_count": 25
        }
      ]
    },
    {
      "cell_type": "markdown",
      "source": [
        "После исследования оставляем следующие 8 столбцов факторов для принятия решения и 9-й столбец (t.1) как решение о выдаче кредита: b (семейный статус), v (количество детей), + (итоговое решение выдать кредит или нет), 0 (месячный доход как отношение к прожит минимуму цифра от 0 до 28), g (опыт успешного взятия и погашения кредита), t.1 (пол), g.1 (есть ли страховка жизни), worldwide (возрастной промежуток - по 5 лет, начиная от 20 и старше 85)"
      ],
      "metadata": {
        "id": "xx2rTRDlAhQ1"
      }
    },
    {
      "cell_type": "code",
      "source": [
        "df1=df[['v','b','+','0','g','t','t.1','g.1','w']]"
      ],
      "metadata": {
        "id": "H2J-cq-RQHUT"
      },
      "execution_count": null,
      "outputs": []
    },
    {
      "cell_type": "markdown",
      "source": [
        "Очищаем столбец b (брак) от данных без ответа и столбец v (кол-во детей) от данных без ответа, и столбец опыт взятия и отдачи кредита (g)"
      ],
      "metadata": {
        "id": "5ashwliOP-6k"
      }
    },
    {
      "cell_type": "code",
      "source": [
        "df2=df1.loc[(df1['b']!='?')&(df1['v']!='?')&(df1['g']!='?')&(df1['g']!='gg')&(df1['w']!='?')&(df1['g.1']!='p')]\n",
        "df2.head()"
      ],
      "metadata": {
        "colab": {
          "base_uri": "https://localhost:8080/",
          "height": 206
        },
        "id": "LKJJoRKMAIML",
        "outputId": "e8e46be0-6127-48ac-bbeb-fcb483b69553"
      },
      "execution_count": null,
      "outputs": [
        {
          "output_type": "execute_result",
          "data": {
            "text/plain": [
              "   v  b  +      0  g  t t.1 g.1  w\n",
              "0  h  a  +  4.460  g  t   t   g  q\n",
              "1  h  a  +  0.500  g  t   f   g  q\n",
              "2  v  b  +  1.540  g  t   t   g  w\n",
              "3  v  b  +  5.625  g  t   f   s  w\n",
              "4  v  b  +  4.000  g  t   f   g  m"
            ],
            "text/html": [
              "\n",
              "  <div id=\"df-824fe667-c67c-4710-b8ee-3f750e1c937d\">\n",
              "    <div class=\"colab-df-container\">\n",
              "      <div>\n",
              "<style scoped>\n",
              "    .dataframe tbody tr th:only-of-type {\n",
              "        vertical-align: middle;\n",
              "    }\n",
              "\n",
              "    .dataframe tbody tr th {\n",
              "        vertical-align: top;\n",
              "    }\n",
              "\n",
              "    .dataframe thead th {\n",
              "        text-align: right;\n",
              "    }\n",
              "</style>\n",
              "<table border=\"1\" class=\"dataframe\">\n",
              "  <thead>\n",
              "    <tr style=\"text-align: right;\">\n",
              "      <th></th>\n",
              "      <th>v</th>\n",
              "      <th>b</th>\n",
              "      <th>+</th>\n",
              "      <th>0</th>\n",
              "      <th>g</th>\n",
              "      <th>t</th>\n",
              "      <th>t.1</th>\n",
              "      <th>g.1</th>\n",
              "      <th>w</th>\n",
              "    </tr>\n",
              "  </thead>\n",
              "  <tbody>\n",
              "    <tr>\n",
              "      <th>0</th>\n",
              "      <td>h</td>\n",
              "      <td>a</td>\n",
              "      <td>+</td>\n",
              "      <td>4.460</td>\n",
              "      <td>g</td>\n",
              "      <td>t</td>\n",
              "      <td>t</td>\n",
              "      <td>g</td>\n",
              "      <td>q</td>\n",
              "    </tr>\n",
              "    <tr>\n",
              "      <th>1</th>\n",
              "      <td>h</td>\n",
              "      <td>a</td>\n",
              "      <td>+</td>\n",
              "      <td>0.500</td>\n",
              "      <td>g</td>\n",
              "      <td>t</td>\n",
              "      <td>f</td>\n",
              "      <td>g</td>\n",
              "      <td>q</td>\n",
              "    </tr>\n",
              "    <tr>\n",
              "      <th>2</th>\n",
              "      <td>v</td>\n",
              "      <td>b</td>\n",
              "      <td>+</td>\n",
              "      <td>1.540</td>\n",
              "      <td>g</td>\n",
              "      <td>t</td>\n",
              "      <td>t</td>\n",
              "      <td>g</td>\n",
              "      <td>w</td>\n",
              "    </tr>\n",
              "    <tr>\n",
              "      <th>3</th>\n",
              "      <td>v</td>\n",
              "      <td>b</td>\n",
              "      <td>+</td>\n",
              "      <td>5.625</td>\n",
              "      <td>g</td>\n",
              "      <td>t</td>\n",
              "      <td>f</td>\n",
              "      <td>s</td>\n",
              "      <td>w</td>\n",
              "    </tr>\n",
              "    <tr>\n",
              "      <th>4</th>\n",
              "      <td>v</td>\n",
              "      <td>b</td>\n",
              "      <td>+</td>\n",
              "      <td>4.000</td>\n",
              "      <td>g</td>\n",
              "      <td>t</td>\n",
              "      <td>f</td>\n",
              "      <td>g</td>\n",
              "      <td>m</td>\n",
              "    </tr>\n",
              "  </tbody>\n",
              "</table>\n",
              "</div>\n",
              "      <button class=\"colab-df-convert\" onclick=\"convertToInteractive('df-824fe667-c67c-4710-b8ee-3f750e1c937d')\"\n",
              "              title=\"Convert this dataframe to an interactive table.\"\n",
              "              style=\"display:none;\">\n",
              "        \n",
              "  <svg xmlns=\"http://www.w3.org/2000/svg\" height=\"24px\"viewBox=\"0 0 24 24\"\n",
              "       width=\"24px\">\n",
              "    <path d=\"M0 0h24v24H0V0z\" fill=\"none\"/>\n",
              "    <path d=\"M18.56 5.44l.94 2.06.94-2.06 2.06-.94-2.06-.94-.94-2.06-.94 2.06-2.06.94zm-11 1L8.5 8.5l.94-2.06 2.06-.94-2.06-.94L8.5 2.5l-.94 2.06-2.06.94zm10 10l.94 2.06.94-2.06 2.06-.94-2.06-.94-.94-2.06-.94 2.06-2.06.94z\"/><path d=\"M17.41 7.96l-1.37-1.37c-.4-.4-.92-.59-1.43-.59-.52 0-1.04.2-1.43.59L10.3 9.45l-7.72 7.72c-.78.78-.78 2.05 0 2.83L4 21.41c.39.39.9.59 1.41.59.51 0 1.02-.2 1.41-.59l7.78-7.78 2.81-2.81c.8-.78.8-2.07 0-2.86zM5.41 20L4 18.59l7.72-7.72 1.47 1.35L5.41 20z\"/>\n",
              "  </svg>\n",
              "      </button>\n",
              "      \n",
              "  <style>\n",
              "    .colab-df-container {\n",
              "      display:flex;\n",
              "      flex-wrap:wrap;\n",
              "      gap: 12px;\n",
              "    }\n",
              "\n",
              "    .colab-df-convert {\n",
              "      background-color: #E8F0FE;\n",
              "      border: none;\n",
              "      border-radius: 50%;\n",
              "      cursor: pointer;\n",
              "      display: none;\n",
              "      fill: #1967D2;\n",
              "      height: 32px;\n",
              "      padding: 0 0 0 0;\n",
              "      width: 32px;\n",
              "    }\n",
              "\n",
              "    .colab-df-convert:hover {\n",
              "      background-color: #E2EBFA;\n",
              "      box-shadow: 0px 1px 2px rgba(60, 64, 67, 0.3), 0px 1px 3px 1px rgba(60, 64, 67, 0.15);\n",
              "      fill: #174EA6;\n",
              "    }\n",
              "\n",
              "    [theme=dark] .colab-df-convert {\n",
              "      background-color: #3B4455;\n",
              "      fill: #D2E3FC;\n",
              "    }\n",
              "\n",
              "    [theme=dark] .colab-df-convert:hover {\n",
              "      background-color: #434B5C;\n",
              "      box-shadow: 0px 1px 3px 1px rgba(0, 0, 0, 0.15);\n",
              "      filter: drop-shadow(0px 1px 2px rgba(0, 0, 0, 0.3));\n",
              "      fill: #FFFFFF;\n",
              "    }\n",
              "  </style>\n",
              "\n",
              "      <script>\n",
              "        const buttonEl =\n",
              "          document.querySelector('#df-824fe667-c67c-4710-b8ee-3f750e1c937d button.colab-df-convert');\n",
              "        buttonEl.style.display =\n",
              "          google.colab.kernel.accessAllowed ? 'block' : 'none';\n",
              "\n",
              "        async function convertToInteractive(key) {\n",
              "          const element = document.querySelector('#df-824fe667-c67c-4710-b8ee-3f750e1c937d');\n",
              "          const dataTable =\n",
              "            await google.colab.kernel.invokeFunction('convertToInteractive',\n",
              "                                                     [key], {});\n",
              "          if (!dataTable) return;\n",
              "\n",
              "          const docLinkHtml = 'Like what you see? Visit the ' +\n",
              "            '<a target=\"_blank\" href=https://colab.research.google.com/notebooks/data_table.ipynb>data table notebook</a>'\n",
              "            + ' to learn more about interactive tables.';\n",
              "          element.innerHTML = '';\n",
              "          dataTable['output_type'] = 'display_data';\n",
              "          await google.colab.output.renderOutput(dataTable, element);\n",
              "          const docLink = document.createElement('div');\n",
              "          docLink.innerHTML = docLinkHtml;\n",
              "          element.appendChild(docLink);\n",
              "        }\n",
              "      </script>\n",
              "    </div>\n",
              "  </div>\n",
              "  "
            ]
          },
          "metadata": {},
          "execution_count": 27
        }
      ]
    },
    {
      "cell_type": "markdown",
      "source": [
        "Создаем spark DataFrame из Pandas DataFrame"
      ],
      "metadata": {
        "id": "FXSqX5oQSSm2"
      }
    },
    {
      "cell_type": "code",
      "source": [
        "df3 = spark.createDataFrame(df2)\n",
        "df3.describe().show()"
      ],
      "metadata": {
        "colab": {
          "base_uri": "https://localhost:8080/"
        },
        "id": "6JQod9W8SR0N",
        "outputId": "e6e0afdc-c859-4d70-ba99-ff580b8e53ee"
      },
      "execution_count": null,
      "outputs": [
        {
          "output_type": "stream",
          "name": "stderr",
          "text": [
            "/content/spark-3.0.0-bin-hadoop3.2/python/pyspark/sql/pandas/conversion.py:327: FutureWarning: iteritems is deprecated and will be removed in a future version. Use .items instead.\n",
            "  for column, series in pdf.iteritems():\n"
          ]
        },
        {
          "output_type": "stream",
          "name": "stdout",
          "text": [
            "+-------+----+----+----+-----------------+----+----+----+----+----+\n",
            "|summary|   v|   b|   +|                0|   g|   t| t.1| g.1|   w|\n",
            "+-------+----+----+----+-----------------+----+----+----+----+----+\n",
            "|  count| 667| 667| 667|              667| 667| 667| 667| 667| 667|\n",
            "|   mean|null|null|null| 4.82330584707646|null|null|null|null|null|\n",
            "| stddev|null|null|null|4.963728352011556|null|null|null|null|null|\n",
            "|    min|  bb|   a|   +|              0.0|   g|   f|   f|   g|  aa|\n",
            "|    max|   z|   b|   -|             28.0|   p|   t|   t|   s|   x|\n",
            "+-------+----+----+----+-----------------+----+----+----+----+----+\n",
            "\n"
          ]
        }
      ]
    },
    {
      "cell_type": "markdown",
      "source": [
        "Переименовываем столбцы"
      ],
      "metadata": {
        "id": "vb9_3VJTTQXZ"
      }
    },
    {
      "cell_type": "code",
      "source": [
        "df3=df3.withColumnRenamed('v','chld').withColumnRenamed('b','mrg').withColumnRenamed('+','res'). \\\n",
        "        withColumnRenamed('0','inc').withColumnRenamed('g','crex').withColumnRenamed('t.1','sex'). \\\n",
        "        withColumnRenamed('t','ed').withColumnRenamed('g.1','ins').withColumnRenamed('w','age')"
      ],
      "metadata": {
        "id": "Bmvz7bg7SutN"
      },
      "execution_count": null,
      "outputs": []
    },
    {
      "cell_type": "code",
      "source": [
        "from pyspark.ml.feature import StringIndexer, OneHotEncoder, VectorAssembler"
      ],
      "metadata": {
        "id": "h7brFAFcTp0a"
      },
      "execution_count": null,
      "outputs": []
    },
    {
      "cell_type": "markdown",
      "source": [
        "Создаём индексаторы"
      ],
      "metadata": {
        "id": "PrpsBT9kOkoO"
      }
    },
    {
      "cell_type": "code",
      "source": [
        "indexer_chld = StringIndexer(inputCol='chld', outputCol='chldInd')\n",
        "indexer_mrg = StringIndexer(inputCol='mrg', outputCol='mrgInd')\n",
        "indexer_res = StringIndexer(inputCol='res', outputCol='resInd')\n",
        "indexer_crex = StringIndexer(inputCol='crex', outputCol='crexInd')\n",
        "indexer_ed = StringIndexer(inputCol='ed', outputCol='edInd')\n",
        "indexer_sex = StringIndexer(inputCol='sex', outputCol='sexInd')\n",
        "indexer_ins = StringIndexer(inputCol='ins', outputCol='insInd')\n",
        "indexer_age = StringIndexer(inputCol='age', outputCol='ageInd')"
      ],
      "metadata": {
        "id": "w52mDPloTwHd"
      },
      "execution_count": null,
      "outputs": []
    },
    {
      "cell_type": "markdown",
      "source": [
        "Создаём вектор преобразователь"
      ],
      "metadata": {
        "id": "6HetSmOkOoLM"
      }
    },
    {
      "cell_type": "code",
      "source": [
        "vectorAssembler = VectorAssembler(inputCols=[\"chldInd\", \"mrgInd\", \"inc\", \"crexInd\", \"edInd\", \"sexInd\", \"insInd\", \"ageInd\"],\n",
        "                                  outputCol=\"features\")"
      ],
      "metadata": {
        "id": "ulWCTU_M0-27"
      },
      "execution_count": null,
      "outputs": []
    },
    {
      "cell_type": "markdown",
      "source": [
        "Создаём конвеер"
      ],
      "metadata": {
        "id": "wUkiYignOr7r"
      }
    },
    {
      "cell_type": "code",
      "source": [
        "from pyspark.ml import Pipeline\n",
        "\n",
        "pipeline = Pipeline(stages=[indexer_chld, indexer_mrg, indexer_res, indexer_crex, indexer_ed, indexer_sex, indexer_ins, indexer_age, vectorAssembler])\n",
        "\n",
        "df_transformed = pipeline.fit(df3).transform(df3)\n",
        "df_transformed.show(3)"
      ],
      "metadata": {
        "colab": {
          "base_uri": "https://localhost:8080/"
        },
        "id": "oZf6rcHWNzQ1",
        "outputId": "d5443688-1437-45e5-daca-c1ad64b6de38"
      },
      "execution_count": null,
      "outputs": [
        {
          "output_type": "stream",
          "name": "stdout",
          "text": [
            "+----+---+---+----+----+---+---+---+---+-------+------+------+-------+-----+------+------+------+--------------------+\n",
            "|chld|mrg|res| inc|crex| ed|sex|ins|age|chldInd|mrgInd|resInd|crexInd|edInd|sexInd|insInd|ageInd|            features|\n",
            "+----+---+---+----+----+---+---+---+---+-------+------+------+-------+-----+------+------+------+--------------------+\n",
            "|   h|  a|  +|4.46|   g|  t|  t|  g|  q|    1.0|   1.0|   1.0|    0.0|  0.0|   1.0|   0.0|   1.0|[1.0,1.0,4.46,0.0...|\n",
            "|   h|  a|  +| 0.5|   g|  t|  f|  g|  q|    1.0|   1.0|   1.0|    0.0|  0.0|   0.0|   0.0|   1.0|(8,[0,1,2,7],[1.0...|\n",
            "|   v|  b|  +|1.54|   g|  t|  t|  g|  w|    0.0|   0.0|   1.0|    0.0|  0.0|   1.0|   0.0|   2.0|(8,[2,5,7],[1.54,...|\n",
            "+----+---+---+----+----+---+---+---+---+-------+------+------+-------+-----+------+------+------+--------------------+\n",
            "only showing top 3 rows\n",
            "\n"
          ]
        }
      ]
    },
    {
      "cell_type": "markdown",
      "source": [
        "Создаём финальную таблицу"
      ],
      "metadata": {
        "id": "fLdoHIEthVp_"
      }
    },
    {
      "cell_type": "code",
      "source": [
        "df_final = df_transformed.select([\"features\", \"resInd\"])\n",
        "df_final.show(3)"
      ],
      "metadata": {
        "colab": {
          "base_uri": "https://localhost:8080/"
        },
        "id": "FFXx6fzePTuE",
        "outputId": "e31229d2-a89a-4c1b-bf48-cf8091327781"
      },
      "execution_count": null,
      "outputs": [
        {
          "output_type": "stream",
          "name": "stdout",
          "text": [
            "+--------------------+------+\n",
            "|            features|resInd|\n",
            "+--------------------+------+\n",
            "|[1.0,1.0,4.46,0.0...|   1.0|\n",
            "|(8,[0,1,2,7],[1.0...|   1.0|\n",
            "|(8,[2,5,7],[1.54,...|   1.0|\n",
            "+--------------------+------+\n",
            "only showing top 3 rows\n",
            "\n"
          ]
        }
      ]
    },
    {
      "cell_type": "markdown",
      "source": [
        "Разбиваем данные на тренировочную и тестовыую выборки"
      ],
      "metadata": {
        "id": "C-HA7yqNha6g"
      }
    },
    {
      "cell_type": "code",
      "source": [
        "train_data, test_data = df_final.randomSplit([0.8, 0.2], seed=12345)"
      ],
      "metadata": {
        "id": "VYRkXzVlP184"
      },
      "execution_count": null,
      "outputs": []
    },
    {
      "cell_type": "markdown",
      "source": [
        "Создаём модель"
      ],
      "metadata": {
        "id": "4oSGZuyHhfWJ"
      }
    },
    {
      "cell_type": "code",
      "source": [
        "from pyspark.ml.classification import LogisticRegression\n",
        "\n",
        "regressor = LogisticRegression(featuresCol=\"features\", labelCol=\"resInd\")"
      ],
      "metadata": {
        "id": "U9OcZwDTQDEW"
      },
      "execution_count": null,
      "outputs": []
    },
    {
      "cell_type": "markdown",
      "source": [
        "Обучаем модель"
      ],
      "metadata": {
        "id": "DseAa9xHhhqB"
      }
    },
    {
      "cell_type": "code",
      "source": [
        "regressor = regressor.fit(train_data)"
      ],
      "metadata": {
        "id": "QA-XLvUAQDB6"
      },
      "execution_count": null,
      "outputs": []
    },
    {
      "cell_type": "markdown",
      "source": [
        "Получаем результаты для тренировочной и тестовой выборки"
      ],
      "metadata": {
        "id": "_Ja2pLXshmlW"
      }
    },
    {
      "cell_type": "code",
      "source": [
        "train_res = regressor.transform(train_data)\n",
        "test_res = regressor.transform(test_data)"
      ],
      "metadata": {
        "id": "G1V9yL3FQC_V"
      },
      "execution_count": null,
      "outputs": []
    },
    {
      "cell_type": "code",
      "source": [
        "train_res.show(3)"
      ],
      "metadata": {
        "colab": {
          "base_uri": "https://localhost:8080/"
        },
        "id": "0SOCvgnhQC8y",
        "outputId": "068d6730-dee8-422a-e9a7-5388a671eaaa"
      },
      "execution_count": null,
      "outputs": [
        {
          "output_type": "stream",
          "name": "stdout",
          "text": [
            "+--------------------+------+--------------------+--------------------+----------+\n",
            "|            features|resInd|       rawPrediction|         probability|prediction|\n",
            "+--------------------+------+--------------------+--------------------+----------+\n",
            "|       (8,[0],[2.0])|   1.0|[-0.1915052800707...|[0.45226946445146...|       1.0|\n",
            "|(8,[0,1,2],[1.0,1...|   1.0|[-0.5889606607033...|[0.35687336251942...|       1.0|\n",
            "|(8,[0,1,2,5],[1.0...|   1.0|[-2.1124869877899...|[0.10788906310943...|       1.0|\n",
            "+--------------------+------+--------------------+--------------------+----------+\n",
            "only showing top 3 rows\n",
            "\n"
          ]
        }
      ]
    },
    {
      "cell_type": "code",
      "source": [
        "test_res.show(3)"
      ],
      "metadata": {
        "colab": {
          "base_uri": "https://localhost:8080/"
        },
        "id": "SJB8tsw_QC50",
        "outputId": "1c47b84c-fae5-4c64-959b-76d4d45d26d0"
      },
      "execution_count": null,
      "outputs": [
        {
          "output_type": "stream",
          "name": "stdout",
          "text": [
            "+--------------------+------+--------------------+--------------------+----------+\n",
            "|            features|resInd|       rawPrediction|         probability|prediction|\n",
            "+--------------------+------+--------------------+--------------------+----------+\n",
            "|(8,[0,1,2,7],[1.0...|   1.0|[-0.9868887961861...|[0.27152703646680...|       1.0|\n",
            "|(8,[0,2,4],[1.0,0...|   1.0|[3.83498470851394...|[0.97885509641456...|       0.0|\n",
            "|(8,[0,2,4],[1.0,1...|   0.0|[3.81622087707238...|[0.97846321684578...|       0.0|\n",
            "+--------------------+------+--------------------+--------------------+----------+\n",
            "only showing top 3 rows\n",
            "\n"
          ]
        }
      ]
    },
    {
      "cell_type": "markdown",
      "source": [
        "Оцениваем модель"
      ],
      "metadata": {
        "id": "I95nbJdLhwDT"
      }
    },
    {
      "cell_type": "code",
      "source": [
        "from pyspark.ml.evaluation import BinaryClassificationEvaluator\n",
        "\n",
        "ev = BinaryClassificationEvaluator(labelCol='resInd')\n",
        "\n",
        "ev.evaluate(train_res)"
      ],
      "metadata": {
        "colab": {
          "base_uri": "https://localhost:8080/"
        },
        "id": "bKEZ9yk7QCqq",
        "outputId": "e90b5377-e787-4ac4-f4c2-2347f2272fa6"
      },
      "execution_count": null,
      "outputs": [
        {
          "output_type": "execute_result",
          "data": {
            "text/plain": [
              "0.9309053497942374"
            ]
          },
          "metadata": {},
          "execution_count": 41
        }
      ]
    },
    {
      "cell_type": "code",
      "source": [
        "ev.evaluate(test_res)"
      ],
      "metadata": {
        "colab": {
          "base_uri": "https://localhost:8080/"
        },
        "id": "2nLN0h-eRMSn",
        "outputId": "30781d85-58eb-4bfa-b582-5c78f7c6b09a"
      },
      "execution_count": null,
      "outputs": [
        {
          "output_type": "execute_result",
          "data": {
            "text/plain": [
              "0.8798941798941793"
            ]
          },
          "metadata": {},
          "execution_count": 42
        }
      ]
    },
    {
      "cell_type": "markdown",
      "source": [
        "**Вывод:** Логистическая регрессия даёт 88% вероятности результата успеха на тестовой базе."
      ],
      "metadata": {
        "id": "ovV0JAg6Rjov"
      }
    },
    {
      "cell_type": "markdown",
      "source": [
        "**ПРОГРАММА**, которая по заданным параметрам дает прогноз вернет клиент кредит или нет. В итоге печатается результат."
      ],
      "metadata": {
        "id": "BX-kNQfMRz6W"
      }
    },
    {
      "cell_type": "code",
      "source": [
        "from numpy.lib.function_base import vectorize\n",
        "a1=float(input('Введите действительно число от 0 до 28 кратное делению вашего месячного дохода на прожиточный минимум: '))\n",
        "if (a1<0)or(a1>28):\n",
        "  print('введены неправильные данные. Вводимое число должно быть от 0 до 28')\n",
        "  sys.exit()\n",
        "a3=int(input('Введите 1, если Вы состоите в браке, 0 если нет: '))\n",
        "if (a3!=0)&(a3!=1):\n",
        "  print('введены неправильные данные. Вводимое число должно быть или 0 или 1')\n",
        "  sys.exit()\n",
        "a5=int(input('Введите 1, если Вы брали и успешно отдали кредит, 0 если нет: '))\n",
        "if (a5!=0)&(a5!=1):\n",
        "  print('введены неправильные данные. Вводимое число должно быть или 0 или 1')\n",
        "  sys.exit()\n",
        "a6=int(input('Введите 1, если у Вас высшее образование, 0 если нет: '))\n",
        "if (a6!=0)&(a6!=1):\n",
        "  print('введены неправильные данные. Вводимое число должно быть или 0 или 1')\n",
        "  sys.exit()\n",
        "a2=int(input('Введите кол-во ваших детей - число от 0 до 8: '))\n",
        "if (a2<0)or(a2>8):\n",
        "  print('введены неправильные данные. Вводимое число должно быть от 0 до 8')\n",
        "  sys.exit()\n",
        "a4=int(input('Введите 1, если Вы мужчина, 0 если нет: '))\n",
        "if (a4!=0)&(a4!=1):\n",
        "  print('введены неправильные данные. Вводимое число должно быть или 0 или 1')\n",
        "  sys.exit()\n",
        "a7=int(input('Введите 0, если у Ваc есть мед. страхование, 1 если нет: '))\n",
        "if (a7!=0)&(a7!=1):\n",
        "  print('введены неправильные данные. Вводимое число должно быть или 0 или 1')\n",
        "  sys.exit()\n",
        "a8=int(input('Введите целое число от 0 до 13 в зависимости от возраста 0 если Вам (20-25 лет),13 (если Вы старше 85 лет): '))\n",
        "if (a8<0)or(a8>13):\n",
        "  print('введены неправильные данные. Вводимое число должно быть или 0 или 1')\n",
        "  sys.exit()\n",
        "\n",
        "test0 = pd.DataFrame({'inc':[a1],'chldInd':[a2],'mrgInd':[a3],'sexInd':[a4],'crexInd':[a5],'edInd':[a6],'insInd':[a7],'ageInd':[a8]})\n",
        "test1 = spark.createDataFrame(test0)\n",
        "\n",
        "df_test = vectorAssembler.transform(test1)\n",
        "df_test_final = df_test.select([\"features\"])\n",
        "\n",
        "test_res = regressor.transform(df_test_final)\n",
        "\n",
        "test_res.show()"
      ],
      "metadata": {
        "colab": {
          "base_uri": "https://localhost:8080/"
        },
        "id": "bhf5fQyaRt6p",
        "outputId": "a89b7591-48d1-49d4-fa9b-b78c48dbdf14"
      },
      "execution_count": null,
      "outputs": [
        {
          "name": "stdout",
          "output_type": "stream",
          "text": [
            "Введите действительно число от 0 до 28 кратное делению вашего месячного дохода на прожиточный минимум: 10\n",
            "Введите 1, если Вы состоите в браке, 0 если нет: 0\n",
            "Введите 1, если Вы брали и успешно отдали кредит, 0 если нет: 0\n",
            "Введите 1, если у Вас высшее образование, 0 если нет: 0\n",
            "Введите кол-во ваших детей - число от 0 до 8: 0\n",
            "Введите 1, если Вы мужчина, 0 если нет: 0\n",
            "Введите 0, если у Ваc есть мед. страхование, 1 если нет: 0\n",
            "Введите целое число от 0 до 13 в зависимости от возраста 0 если Вам (20-25 лет),13 (если Вы старше 85 лет): 5\n"
          ]
        },
        {
          "output_type": "stream",
          "name": "stderr",
          "text": [
            "/content/spark-3.0.0-bin-hadoop3.2/python/pyspark/sql/pandas/conversion.py:327: FutureWarning: iteritems is deprecated and will be removed in a future version. Use .items instead.\n",
            "  for column, series in pdf.iteritems():\n"
          ]
        },
        {
          "output_type": "stream",
          "name": "stdout",
          "text": [
            "+--------------------+--------------------+--------------------+----------+\n",
            "|            features|       rawPrediction|         probability|prediction|\n",
            "+--------------------+--------------------+--------------------+----------+\n",
            "|(8,[2,7],[10.0,5.0])|[-0.9241282211077...|[0.28411748805032...|       1.0|\n",
            "+--------------------+--------------------+--------------------+----------+\n",
            "\n"
          ]
        }
      ]
    },
    {
      "cell_type": "code",
      "source": [
        "if test_res.first()['prediction']:\n",
        "  print('Кредит одобрен')\n",
        "else:\n",
        "  print('Кредит отклонен')"
      ],
      "metadata": {
        "colab": {
          "base_uri": "https://localhost:8080/"
        },
        "id": "JkykICst0GFL",
        "outputId": "6c0c5381-19e2-43e4-e341-3a887c607f6c"
      },
      "execution_count": null,
      "outputs": [
        {
          "output_type": "stream",
          "name": "stdout",
          "text": [
            "Кредит одобрен\n"
          ]
        }
      ]
    },
    {
      "cell_type": "markdown",
      "source": [
        "Попробуем, а будет ли улучшение результата при применении не логистической, а линейной регрессии :"
      ],
      "metadata": {
        "id": "JzE4Y3gzfd5t"
      }
    },
    {
      "cell_type": "code",
      "source": [
        "from pyspark.ml.regression import LinearRegression\n",
        "\n",
        "lin_reg = LinearRegression(featuresCol='features',labelCol='resInd')\n",
        "lrMod=lin_reg.fit(train_data)\n",
        "\n",
        "train_res1=lrMod.transform(train_data)\n",
        "test_res1=lrMod.transform(test_data)\n",
        "\n",
        "from pyspark.ml.evaluation import RegressionEvaluator\n",
        "\n",
        "ev1 = RegressionEvaluator(predictionCol='prediction',\n",
        "      labelCol='resInd')\n",
        "\n",
        "ev1.evaluate(train_res1)"
      ],
      "metadata": {
        "colab": {
          "base_uri": "https://localhost:8080/"
        },
        "id": "6e5o15Zdfcz1",
        "outputId": "3bf74fda-1701-44d4-8ee7-65adb03532d4"
      },
      "execution_count": null,
      "outputs": [
        {
          "output_type": "execute_result",
          "data": {
            "text/plain": [
              "0.31578830609967595"
            ]
          },
          "metadata": {},
          "execution_count": 55
        }
      ]
    },
    {
      "cell_type": "code",
      "source": [
        "ev1.evaluate(test_res1)"
      ],
      "metadata": {
        "colab": {
          "base_uri": "https://localhost:8080/"
        },
        "id": "Wdc_XJ4Kgbhk",
        "outputId": "16151d51-ec09-4506-bcf3-34f79933b2bb"
      },
      "execution_count": null,
      "outputs": [
        {
          "output_type": "execute_result",
          "data": {
            "text/plain": [
              "0.36042673852791446"
            ]
          },
          "metadata": {},
          "execution_count": 56
        }
      ]
    },
    {
      "cell_type": "markdown",
      "source": [
        "Линейная регрессия дает очень слабый результат. Ее использовать нельзя."
      ],
      "metadata": {
        "id": "--KQXWyugJLn"
      }
    }
  ]
}